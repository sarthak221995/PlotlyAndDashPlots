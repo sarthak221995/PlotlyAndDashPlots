{
  "nbformat": 4,
  "nbformat_minor": 0,
  "metadata": {
    "colab": {
      "name": "Plotly|StackedBarPlot.ipynb",
      "provenance": [],
      "authorship_tag": "ABX9TyODkwL4LNg7kaUxavgNBzGT",
      "include_colab_link": true
    },
    "kernelspec": {
      "name": "python3",
      "display_name": "Python 3"
    }
  },
  "cells": [
    {
      "cell_type": "markdown",
      "metadata": {
        "id": "view-in-github",
        "colab_type": "text"
      },
      "source": [
        "<a href=\"https://colab.research.google.com/github/sarthak221995/PlotlyAndDashPlots/blob/master/Plotly%7CStackedBarPlot.ipynb\" target=\"_parent\"><img src=\"https://colab.research.google.com/assets/colab-badge.svg\" alt=\"Open In Colab\"/></a>"
      ]
    },
    {
      "cell_type": "code",
      "metadata": {
        "id": "BVQCDEEp1kZX",
        "colab_type": "code",
        "colab": {}
      },
      "source": [
        "import plotly.offline as pyo\n",
        "import plotly.graph_objs as go\n",
        "import pandas as pd\n",
        "\n",
        "file_path=r\"D:\\TimeSeriesResources\\UdemyDashCourse\\Plotly-Dashboards-with-Dash-master\\Plotly-Dashboards-with-Dash-master\\Data\\2018WinterOlympics.csv\"\n",
        "df=pd.read_csv(file_path)\n",
        "\n",
        "\n",
        "trace0=go.Bar(x=df['NOC'],\n",
        "              y=df['Gold'],\n",
        "              name='gold',\n",
        "              marker=dict(color='#FFD700'))\n",
        "\n",
        "\n",
        "trace1=go.Bar(x=df['NOC'],\n",
        "              y=df['Silver'],\n",
        "              name='gold',\n",
        "              marker=dict(color='#9EA0A1'))\n",
        "\n",
        "\n",
        "\n",
        "trace2=go.Bar(x=df['NOC'],\n",
        "              y=df['Bronze'],\n",
        "              name='gold',\n",
        "              marker=dict(color='#CD7F32'))\n",
        "\n",
        "\n",
        "data=[trace0,trace1,trace2]\n",
        "\n",
        "layout=go.Layout(title=\"Medals\",\n",
        "                 barmode='stack')\n",
        "\n",
        "fig=go.Figure(data=data,layout=layout)\n",
        "\n",
        "pyo.plot(fig)"
      ],
      "execution_count": 0,
      "outputs": []
    }
  ]
}
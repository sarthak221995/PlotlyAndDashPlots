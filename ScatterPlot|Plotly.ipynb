{
  "nbformat": 4,
  "nbformat_minor": 0,
  "metadata": {
    "colab": {
      "name": "ScatterPlot|Plotly.ipynb",
      "provenance": [],
      "authorship_tag": "ABX9TyPTZzkLbLPH/ehNINB3jSw6",
      "include_colab_link": true
    },
    "kernelspec": {
      "name": "python3",
      "display_name": "Python 3"
    }
  },
  "cells": [
    {
      "cell_type": "markdown",
      "metadata": {
        "id": "view-in-github",
        "colab_type": "text"
      },
      "source": [
        "<a href=\"https://colab.research.google.com/github/sarthak221995/PlotlyAndDashPlots/blob/master/ScatterPlot%7CPlotly.ipynb\" target=\"_parent\"><img src=\"https://colab.research.google.com/assets/colab-badge.svg\" alt=\"Open In Colab\"/></a>"
      ]
    },
    {
      "cell_type": "code",
      "metadata": {
        "id": "LdhZzWynnQtk",
        "colab_type": "code",
        "colab": {}
      },
      "source": [
        "import numpy as np\n",
        "import plotly.offline as pyo\n",
        "import plotly.graph_objs as go\n",
        "\n",
        "np.random.seed(42)\n",
        "\n",
        "random_x = np.random.randint(1, 101, 100)\n",
        "random_y = np.random.randint(1, 101, 100)\n",
        "\n",
        "data = [go.Scatter(x=random_x,\n",
        "                   y=random_y,\n",
        "                   mode='markers',\n",
        "                   marker=dict(\n",
        "                       size=12,\n",
        "                       color='rgb(51,204,153)',\n",
        "                       symbol='pentagon',\n",
        "                       line=dict(width=2)\n",
        "                   ))]\n",
        "\n",
        "layout = go.Layout(title='Scatter Plot Title',\n",
        "                   xaxis=dict(title='My X Axis'),\n",
        "                   yaxis=dict(title='My Y Axis'),\n",
        "                   hovermode='closest')\n",
        "\n",
        "figure = go.Figure(data=data, layout=layout)\n",
        "\n",
        "pyo.plot(figure, filename=\"scatter.html\")\n"
      ],
      "execution_count": 0,
      "outputs": []
    }
  ]
}
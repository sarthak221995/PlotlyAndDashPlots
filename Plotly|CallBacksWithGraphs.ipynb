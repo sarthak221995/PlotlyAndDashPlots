{
  "nbformat": 4,
  "nbformat_minor": 0,
  "metadata": {
    "colab": {
      "name": "Plotly|CallBacksWithGraphs",
      "provenance": [],
      "authorship_tag": "ABX9TyPzLiiGdMf1s1jAERQg54Z6",
      "include_colab_link": true
    },
    "kernelspec": {
      "name": "python3",
      "display_name": "Python 3"
    }
  },
  "cells": [
    {
      "cell_type": "markdown",
      "metadata": {
        "id": "view-in-github",
        "colab_type": "text"
      },
      "source": [
        "<a href=\"https://colab.research.google.com/github/sarthak221995/PlotlyAndDashPlots/blob/master/Plotly%7CCallBacksWithGraphs.ipynb\" target=\"_parent\"><img src=\"https://colab.research.google.com/assets/colab-badge.svg\" alt=\"Open In Colab\"/></a>"
      ]
    },
    {
      "cell_type": "code",
      "metadata": {
        "id": "jr6hhBU1weF6",
        "colab_type": "code",
        "colab": {}
      },
      "source": [
        "import dash\n",
        "import  dash_core_components as dcc\n",
        "import  dash_html_components as html\n",
        "from dash.dependencies import Input,Output\n",
        "import plotly.graph_objs as go\n",
        "import  pandas as pd\n",
        "\n",
        "df=pd.read_csv(r\"D:\\TimeSeriesResources\\UdemyDashCourse\\Plotly-Dashboards-with-Dash-master\\Plotly-Dashboards-with-Dash-master\\Data\\gapminderDataFiveYear.csv\")\n",
        "\n",
        "app=dash.Dash()\n",
        "\n",
        "\n",
        "year_options=[]\n",
        "for year in df['year'].unique():\n",
        "    year_options.append({'label':str(year),'value':year})\n",
        "\n",
        "app.layout=html.Div([dcc.Graph(id=\"graph\"),\n",
        "                    dcc.Dropdown(id=\"year-picker\",\n",
        "                                 options=year_options,\n",
        "                                 value=df['year'].min())])\n",
        "@app.callback(Output('graph','figure'),\n",
        "              [Input('year-picker','value')])\n",
        "def update_figure(selected_year):\n",
        "    filtered_df=df[df['year']==selected_year]\n",
        "    traces=[]\n",
        "    for continent_name in filtered_df['continent'].unique():\n",
        "        df_by_continent=filtered_df[filtered_df['continent']==continent_name]\n",
        "        traces.append(go.Scatter(\n",
        "            x=df_by_continent['gdpPercap'],\n",
        "            t=df_by_continent['lifeExp'],\n",
        "            mode='markers',\n",
        "            opacity=0.7,\n",
        "            marker={'size':15},\n",
        "            name=continent_name\n",
        "        ))\n",
        "    return  {'data':traces,\n",
        "             'layout':go.Layout(title=\"My Plot\",\n",
        "                                xaxis={'title':'GDP Per Cap','type':'log'},\n",
        "                                yaxis={'title':'Life Expentency'}\n",
        "                                )\n",
        "             }\n",
        "\n",
        "app.run_server()"
      ],
      "execution_count": 0,
      "outputs": []
    }
  ]
}
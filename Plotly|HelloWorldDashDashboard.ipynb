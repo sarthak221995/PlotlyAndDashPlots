{
  "nbformat": 4,
  "nbformat_minor": 0,
  "metadata": {
    "colab": {
      "name": "Plotly|HelloWorldDashDashboard.ipynb",
      "provenance": [],
      "authorship_tag": "ABX9TyO3ZlGnAcq+hvxr7Jp9B+I0",
      "include_colab_link": true
    },
    "kernelspec": {
      "name": "python3",
      "display_name": "Python 3"
    }
  },
  "cells": [
    {
      "cell_type": "markdown",
      "metadata": {
        "id": "view-in-github",
        "colab_type": "text"
      },
      "source": [
        "<a href=\"https://colab.research.google.com/github/sarthak221995/PlotlyAndDashPlots/blob/master/Plotly%7CHelloWorldDashDashboard.ipynb\" target=\"_parent\"><img src=\"https://colab.research.google.com/assets/colab-badge.svg\" alt=\"Open In Colab\"/></a>"
      ]
    },
    {
      "cell_type": "code",
      "metadata": {
        "id": "H6GXte2iyla2",
        "colab_type": "code",
        "colab": {}
      },
      "source": [
        "import dash\n",
        "import dash_core_components as dcc\n",
        "import dash_html_components  as html\n",
        "import plotly.graph_objs as go\n",
        "import numpy as np\n",
        "\n",
        "app = dash.Dash()\n",
        "\n",
        "# Creating Data\n",
        "random_x = np.random.randint(1, 101, 100)\n",
        "random_y = np.random.randint(1, 101, 100)\n",
        "\n",
        "app.layout = html.Div([\n",
        "    dcc.Graph(id='scattterplot',\n",
        "              figure={'data': [go.Scatter(\n",
        "                  x=random_x,\n",
        "                  y=random_y,\n",
        "                  mode='markers',\n",
        "                  marker={\n",
        "                      'size': 12,\n",
        "                      'color': 'rgb(51,204,153)',\n",
        "                      'symbol': 'pentagon',\n",
        "                      'line': {'width': 2}\n",
        "                  })],\n",
        "                  'layout': go.Layout(title='My Scatterplots',\n",
        "                                      xaxis={\n",
        "                                          'title':'My Scatterplot'\n",
        "                                      })}\n",
        "              ),\n",
        "    dcc.Graph(id='scattterplot2',\n",
        "              figure={'data': [go.Scatter(\n",
        "                  x=random_x,\n",
        "                  y=random_y,\n",
        "                  mode='markers',\n",
        "                  marker={\n",
        "                      'size': 12,\n",
        "                      'color': 'rgb(200,204,53)',\n",
        "                      'symbol': 'pentagon',\n",
        "                      'line': {'width': 2}\n",
        "                  })],\n",
        "                  'layout': go.Layout(title='My Scatterplots2',\n",
        "                                      xaxis={\n",
        "                                          'title': 'My Scatterplot'\n",
        "                                      })}\n",
        "              )\n",
        "])\n",
        "\n",
        "# if __name__ == 'main':\n",
        "app.run_server()\n"
      ],
      "execution_count": 0,
      "outputs": []
    }
  ]
}
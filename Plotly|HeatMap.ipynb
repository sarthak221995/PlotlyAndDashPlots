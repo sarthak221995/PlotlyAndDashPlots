{
  "nbformat": 4,
  "nbformat_minor": 0,
  "metadata": {
    "colab": {
      "name": "Plotly|HeatMap.ipynb",
      "provenance": [],
      "authorship_tag": "ABX9TyPJlCsjVkOROkvxG/X4rLu5",
      "include_colab_link": true
    },
    "kernelspec": {
      "name": "python3",
      "display_name": "Python 3"
    }
  },
  "cells": [
    {
      "cell_type": "markdown",
      "metadata": {
        "id": "view-in-github",
        "colab_type": "text"
      },
      "source": [
        "<a href=\"https://colab.research.google.com/github/sarthak221995/PlotlyAndDashPlots/blob/master/Plotly%7CHeatMap.ipynb\" target=\"_parent\"><img src=\"https://colab.research.google.com/assets/colab-badge.svg\" alt=\"Open In Colab\"/></a>"
      ]
    },
    {
      "cell_type": "code",
      "metadata": {
        "id": "MJJTRkhbj6aX",
        "colab_type": "code",
        "colab": {}
      },
      "source": [
        "import plotly.offline as pyo\n",
        "import plotly.graph_objs as go\n",
        "import pandas as pd\n",
        "from plotly import tools\n",
        "# Sub plot\n",
        "#\n",
        "df1 = pd.read_csv(\n",
        "    r\"D:\\TimeSeriesResources\\UdemyDashCourse\\Plotly-Dashboards-with-Dash-master\\Plotly-Dashboards-with-Dash-master\\Data\\2010SitkaAK.csv\")\n",
        "df2 = pd.read_csv(\n",
        "    r\"D:\\TimeSeriesResources\\UdemyDashCourse\\Plotly-Dashboards-with-Dash-master\\Plotly-Dashboards-with-Dash-master\\Data\\2010SantaBarbaraCA.csv\")\n",
        "df3 = pd.read_csv(\n",
        "    r\"D:\\TimeSeriesResources\\UdemyDashCourse\\Plotly-Dashboards-with-Dash-master\\Plotly-Dashboards-with-Dash-master\\Data\\2010YumaAZ.csv\")\n",
        "\n",
        "trace1 = go.Heatmap(x=df1['DAY'],\n",
        "                    y=df1['LST_TIME'],\n",
        "                    z=df1['T_HR_AVG'].values.tolist(),\n",
        "                    colorscale='Jet',\n",
        "                    zmin=5,\n",
        "                    zmax=40)\n",
        "\n",
        "trace2 = go.Heatmap(x=df2['DAY'],\n",
        "                    y=df2['LST_TIME'],\n",
        "                    z=df2['T_HR_AVG'].values.tolist(),\n",
        "                    colorscale='Jet',\n",
        "                    zmin=5,\n",
        "                    zmax=40)\n",
        "\n",
        "trace3 = go.Heatmap(x=df3['DAY'],\n",
        "                    y=df3['LST_TIME'],\n",
        "                    z=df3['T_HR_AVG'].values.tolist(),\n",
        "                    colorscale='Jet',\n",
        "                    zmin=5,\n",
        "                    zmax=40)\n",
        "data = [trace1, trace2, trace3]\n",
        "\n",
        "fig=tools.make_subplots(rows=1,cols=3,\n",
        "                        subplot_titles=['Sitika AK','SB CA','YUMA AZ'],\n",
        "                        shared_yaxes=True)\n",
        "\n",
        "fig.append_trace(trace1,1,1)\n",
        "fig.append_trace(trace2,1,2)\n",
        "fig.append_trace(trace3,1,3)\n",
        "\n",
        "fig['layout'].update(title='Temps for 3 cities')\n",
        "\n",
        "pyo.plot(fig)\n"
      ],
      "execution_count": 0,
      "outputs": []
    }
  ]
}
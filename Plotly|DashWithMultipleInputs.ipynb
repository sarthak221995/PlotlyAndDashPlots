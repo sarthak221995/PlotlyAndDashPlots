{
  "nbformat": 4,
  "nbformat_minor": 0,
  "metadata": {
    "colab": {
      "name": "Plotly|DashWithMultipleInputs.ipynb",
      "provenance": [],
      "authorship_tag": "ABX9TyMD42fPT4vtOhkbBOvQfE/B",
      "include_colab_link": true
    },
    "kernelspec": {
      "name": "python3",
      "display_name": "Python 3"
    }
  },
  "cells": [
    {
      "cell_type": "markdown",
      "metadata": {
        "id": "view-in-github",
        "colab_type": "text"
      },
      "source": [
        "<a href=\"https://colab.research.google.com/github/sarthak221995/PlotlyAndDashPlots/blob/master/Plotly%7CDashWithMultipleInputs.ipynb\" target=\"_parent\"><img src=\"https://colab.research.google.com/assets/colab-badge.svg\" alt=\"Open In Colab\"/></a>"
      ]
    },
    {
      "cell_type": "code",
      "metadata": {
        "id": "hnR7gSOIf-Oy",
        "colab_type": "code",
        "colab": {}
      },
      "source": [
        "import dash\n",
        "import dash_core_components as dcc\n",
        "import dash_html_components as html\n",
        "from dash.dependencies import Input, Output\n",
        "import plotly.graph_objs as go\n",
        "import pandas as pd\n",
        "\n",
        "df = pd.read_csv(\n",
        "    r\"D:\\TimeSeriesResources\\UdemyDashCourse\\Plotly-Dashboards-with-Dash-master\\Plotly-Dashboards-with-Dash-master\\Data\\mpg.csv\")\n",
        "\n",
        "app = dash.Dash()\n",
        "\n",
        "features = df.columns\n",
        "\n",
        "app.layout = html.Div([\n",
        "    html.Div([\n",
        "        dcc.Dropdown(id=\"xaxis\",\n",
        "                     options=[{'label': i, 'value': i} for i in features],\n",
        "                     value='displacement')\n",
        "    ], style={'width': '48%', 'display': 'inline-block'}),\n",
        "    html.Div([\n",
        "        dcc.Dropdown(id=\"yaxis\",\n",
        "                     options=[{'label': i, 'value': i} for i in features],\n",
        "                     value='mpg')\n",
        "    ], style={'width': '48%', 'display': 'inline-block'}),\n",
        "    dcc.Graph(id='feature-graphic')\n",
        "], style={'padding': 10})\n",
        "\n",
        "\n",
        "@app.callback(Output('feature-graphic', 'figure'),\n",
        "              [Input('xaxis', 'value'),\n",
        "               Input('yaxis', 'value')])\n",
        "def update_graph(xaxis_name, yaxis_name):\n",
        "    return {'data': [go.Scatter(x=df[xaxis_name],\n",
        "                                y=df[yaxis_name],\n",
        "                                text=df['name'],\n",
        "                                mode='markers',\n",
        "                                marker={'size': 15,\n",
        "                                        'opacity': 0.5,\n",
        "                                        'line': {\n",
        "                                            'width': 0.5,\n",
        "                                            'color': 'white'\n",
        "                                        }})],\n",
        "            'layout': go.Layout(title='My Dashboard for MPG',\n",
        "                                xaxis={'title': xaxis_name},\n",
        "                                yaxis={'title': yaxis_name},\n",
        "                                hovermode='closest')}\n",
        "\n",
        "\n",
        "app.run_server()\n"
      ],
      "execution_count": 0,
      "outputs": []
    }
  ]
}
{
  "nbformat": 4,
  "nbformat_minor": 0,
  "metadata": {
    "colab": {
      "name": "Plotly|DashDashboardsMultipleOutput.ipynb",
      "provenance": [],
      "authorship_tag": "ABX9TyPlEOoZObE85xGM3S4KNrXZ",
      "include_colab_link": true
    },
    "kernelspec": {
      "name": "python3",
      "display_name": "Python 3"
    }
  },
  "cells": [
    {
      "cell_type": "markdown",
      "metadata": {
        "id": "view-in-github",
        "colab_type": "text"
      },
      "source": [
        "<a href=\"https://colab.research.google.com/github/sarthak221995/PlotlyAndDashPlots/blob/master/Plotly%7CDashDashboardsMultipleOutput.ipynb\" target=\"_parent\"><img src=\"https://colab.research.google.com/assets/colab-badge.svg\" alt=\"Open In Colab\"/></a>"
      ]
    },
    {
      "cell_type": "code",
      "metadata": {
        "id": "PhotldvS-BQu",
        "colab_type": "code",
        "colab": {}
      },
      "source": [
        "import dash\n",
        "import dash_core_components as dcc\n",
        "import dash_html_components as html\n",
        "from dash.dependencies import Input, Output\n",
        "import pandas as pd\n",
        "import base64\n",
        "\n",
        "df = pd.read_csv(r\"Data/wheels.csv\")\n",
        "\n",
        "app = dash.Dash()\n",
        "\n",
        "app.layout = html.Div([\n",
        "    dcc.RadioItems(id='wheels',\n",
        "                   options=[{'label': i, 'value': i} for i in df['wheels'].unique()],\n",
        "                   value=1),\n",
        "    html.Div(id='wheels-output'),\n",
        "    html.Hr(),\n",
        "    dcc.RadioItems(id='colors',\n",
        "                   options=[{'label': i, 'value': i} for i in df['color'].unique()],\n",
        "                   value='blue'\n",
        "                   ),\n",
        "    html.Div(id='colors-output'),\n",
        "    html.Img(id='display-image',src='children',height=300)\n",
        "], style={'fontFamily': 'helvetica', 'fontsize': 18})\n",
        "\n",
        "\n",
        "@app.callback(Output('wheels-output', 'children'),\n",
        "              [Input('wheels', 'value')])\n",
        "def callback_a(wheels_value):\n",
        "    return \"you choose {}\".format(wheels_value)\n",
        "\n",
        "\n",
        "@app.callback(Output('colors-output', 'children'),\n",
        "              [Input('colors', 'value')])\n",
        "def callback_b(colors_value):\n",
        "    return \"you choose {}\".format(colors_value)\n",
        "\n",
        "\n",
        "def encode_image(image_file):\n",
        "    encoded=base64.b64encode(open(image_file,'rb').read())\n",
        "    return  'data:image/png;base64,{}'.format(encoded.decode())\n",
        "\n",
        "@app.callback(Output('display-image','src'),\n",
        "              [Input('wheels','value'),\n",
        "               Input('colors','value')])\n",
        "def callback_image(wheel,color):\n",
        "    path='data/images/'\n",
        "    return encode_image(path+df[(df['wheels']==wheel)&(df['color']==color)]['image'].values[0])\n",
        "\n",
        "app.run_server()"
      ],
      "execution_count": 0,
      "outputs": []
    }
  ]
}
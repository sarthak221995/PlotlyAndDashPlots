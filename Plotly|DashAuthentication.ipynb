{
  "nbformat": 4,
  "nbformat_minor": 0,
  "metadata": {
    "colab": {
      "name": "Plotly|DashAuthentication.ipynb",
      "provenance": [],
      "authorship_tag": "ABX9TyO0v6u9i5I/FJembmpUpJe1",
      "include_colab_link": true
    },
    "kernelspec": {
      "name": "python3",
      "display_name": "Python 3"
    }
  },
  "cells": [
    {
      "cell_type": "markdown",
      "metadata": {
        "id": "view-in-github",
        "colab_type": "text"
      },
      "source": [
        "<a href=\"https://colab.research.google.com/github/sarthak221995/PlotlyAndDashPlots/blob/master/Plotly%7CDashAuthentication.ipynb\" target=\"_parent\"><img src=\"https://colab.research.google.com/assets/colab-badge.svg\" alt=\"Open In Colab\"/></a>"
      ]
    },
    {
      "cell_type": "code",
      "metadata": {
        "id": "uPh55zVJoB3w",
        "colab_type": "code",
        "colab": {}
      },
      "source": [
        "import dash\n",
        "import dash_core_components as dcc\n",
        "import dash_html_components as html\n",
        "from dash.dependencies import Input, Output\n",
        "import dash_auth\n",
        "\n",
        "USERNAME_PASSWORD_PAIRS = [['username', 'password'], ['Jamesbond', '007']]\n",
        "\n",
        "app = dash.Dash()\n",
        "auth = dash_auth.BasicAuth(app,USERNAME_PASSWORD_PAIRS)\n",
        "\n",
        "app.layout = html.Div([\n",
        "    dcc.RangeSlider(\n",
        "        id='range-slider',\n",
        "        min=5,\n",
        "        max=6,\n",
        "        marks={i: str(i) for i in range(-5, 7)},\n",
        "        value=[-3, 4]\n",
        "    ),\n",
        "    html.H1(id='product')\n",
        "],style={'width':'50%'})\n",
        "\n",
        "@app.callback(\n",
        "    Output('product','children'),\n",
        "    [Input('range-slider','value')])\n",
        "def update_value(value_lst):\n",
        "    return value_lst[0]*value_lst[1]\n",
        "\n",
        "app.run_server()"
      ],
      "execution_count": 0,
      "outputs": []
    }
  ]
}